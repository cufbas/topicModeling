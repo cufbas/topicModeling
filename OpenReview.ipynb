{
 "cells": [
  {
   "cell_type": "markdown",
   "id": "e0abe737-62e0-4db7-925e-513d52539f4d",
   "metadata": {},
   "source": [
    "### Below an example of how to retreive the results of a single arxiv query, with the search term \"all:electron\""
   ]
  },
  {
   "cell_type": "code",
   "execution_count": 1,
   "id": "59fd4038-4d74-4118-9659-d5d68124a264",
   "metadata": {
    "collapsed": true,
    "jupyter": {
     "outputs_hidden": true
    },
    "tags": []
   },
   "outputs": [
    {
     "name": "stdout",
     "output_type": "stream",
     "text": [
      "<?xml version=\"1.0\" encoding=\"UTF-8\"?>\n",
      "<feed xmlns=\"http://www.w3.org/2005/Atom\">\n",
      "  <link href=\"http://arxiv.org/api/query?search_query%3Dall%3Aelectron%26id_list%3D%26start%3D0%26max_results%3D1\" rel=\"self\" type=\"application/atom+xml\"/>\n",
      "  <title type=\"html\">ArXiv Query: search_query=all:electron&amp;id_list=&amp;start=0&amp;max_results=1</title>\n",
      "  <id>http://arxiv.org/api/cHxbiOdZaP56ODnBPIenZhzg5f8</id>\n",
      "  <updated>2022-10-31T00:00:00-04:00</updated>\n",
      "  <opensearch:totalResults xmlns:opensearch=\"http://a9.com/-/spec/opensearch/1.1/\">189264</opensearch:totalResults>\n",
      "  <opensearch:startIndex xmlns:opensearch=\"http://a9.com/-/spec/opensearch/1.1/\">0</opensearch:startIndex>\n",
      "  <opensearch:itemsPerPage xmlns:opensearch=\"http://a9.com/-/spec/opensearch/1.1/\">1</opensearch:itemsPerPage>\n",
      "  <entry>\n",
      "    <id>http://arxiv.org/abs/cond-mat/0102536v1</id>\n",
      "    <updated>2001-02-28T20:12:09Z</updated>\n",
      "    <published>2001-02-28T20:12:09Z</published>\n",
      "    <title>Impact of Electron-Electron Cusp on Configuration Interaction Energies</title>\n",
      "    <summary>  The effect of the electron-electron cusp on the convergence of configuration\n",
      "interaction (CI) wave functions is examined. By analogy with the\n",
      "pseudopotential approach for electron-ion interactions, an effective\n",
      "electron-electron interaction is developed which closely reproduces the\n",
      "scattering of the Coulomb interaction but is smooth and finite at zero\n",
      "electron-electron separation. The exact many-electron wave function for this\n",
      "smooth effective interaction has no cusp at zero electron-electron separation.\n",
      "We perform CI and quantum Monte Carlo calculations for He and Be atoms, both\n",
      "with the Coulomb electron-electron interaction and with the smooth effective\n",
      "electron-electron interaction. We find that convergence of the CI expansion of\n",
      "the wave function for the smooth electron-electron interaction is not\n",
      "significantly improved compared with that for the divergent Coulomb interaction\n",
      "for energy differences on the order of 1 mHartree. This shows that, contrary to\n",
      "popular belief, description of the electron-electron cusp is not a limiting\n",
      "factor, to within chemical accuracy, for CI calculations.\n",
      "</summary>\n",
      "    <author>\n",
      "      <name>David Prendergast</name>\n",
      "      <arxiv:affiliation xmlns:arxiv=\"http://arxiv.org/schemas/atom\">Department of Physics</arxiv:affiliation>\n",
      "    </author>\n",
      "    <author>\n",
      "      <name>M. Nolan</name>\n",
      "      <arxiv:affiliation xmlns:arxiv=\"http://arxiv.org/schemas/atom\">NMRC, University College, Cork, Ireland</arxiv:affiliation>\n",
      "    </author>\n",
      "    <author>\n",
      "      <name>Claudia Filippi</name>\n",
      "      <arxiv:affiliation xmlns:arxiv=\"http://arxiv.org/schemas/atom\">Department of Physics</arxiv:affiliation>\n",
      "    </author>\n",
      "    <author>\n",
      "      <name>Stephen Fahy</name>\n",
      "      <arxiv:affiliation xmlns:arxiv=\"http://arxiv.org/schemas/atom\">Department of Physics</arxiv:affiliation>\n",
      "    </author>\n",
      "    <author>\n",
      "      <name>J. C. Greer</name>\n",
      "      <arxiv:affiliation xmlns:arxiv=\"http://arxiv.org/schemas/atom\">NMRC, University College, Cork, Ireland</arxiv:affiliation>\n",
      "    </author>\n",
      "    <arxiv:doi xmlns:arxiv=\"http://arxiv.org/schemas/atom\">10.1063/1.1383585</arxiv:doi>\n",
      "    <link title=\"doi\" href=\"http://dx.doi.org/10.1063/1.1383585\" rel=\"related\"/>\n",
      "    <arxiv:comment xmlns:arxiv=\"http://arxiv.org/schemas/atom\">11 pages, 6 figures, 3 tables, LaTeX209, submitted to The Journal of\n",
      "  Chemical Physics</arxiv:comment>\n",
      "    <arxiv:journal_ref xmlns:arxiv=\"http://arxiv.org/schemas/atom\">J. Chem. Phys. 115, 1626 (2001)</arxiv:journal_ref>\n",
      "    <link href=\"http://arxiv.org/abs/cond-mat/0102536v1\" rel=\"alternate\" type=\"text/html\"/>\n",
      "    <link title=\"pdf\" href=\"http://arxiv.org/pdf/cond-mat/0102536v1\" rel=\"related\" type=\"application/pdf\"/>\n",
      "    <arxiv:primary_category xmlns:arxiv=\"http://arxiv.org/schemas/atom\" term=\"cond-mat.str-el\" scheme=\"http://arxiv.org/schemas/atom\"/>\n",
      "    <category term=\"cond-mat.str-el\" scheme=\"http://arxiv.org/schemas/atom\"/>\n",
      "  </entry>\n",
      "</feed>\n",
      "\n"
     ]
    }
   ],
   "source": [
    "    import urllib, urllib.request\n",
    "    url = 'http://export.arxiv.org/api/query?search_query=all:electron&start=0&max_results=1'\n",
    "    data = urllib.request.urlopen(url)\n",
    "    print(data.read().decode('utf-8'))"
   ]
  },
  {
   "cell_type": "markdown",
   "id": "6239acb3-44fe-4e38-8682-ce6195194060",
   "metadata": {},
   "source": [
    "### For optimal data query bertopic must be better understood"
   ]
  },
  {
   "cell_type": "code",
   "execution_count": null,
   "id": "43e855ec-9248-4d98-96d5-12bf106c076e",
   "metadata": {},
   "outputs": [],
   "source": [
    "import pandas as pd\n",
    "import re"
   ]
  },
  {
   "cell_type": "markdown",
   "id": "59320087-c773-4e27-be3f-3f9f308a6e98",
   "metadata": {},
   "source": [
    "#### Below is the example from bertopic website, running it here to get a better understanding of how the date should be formatted"
   ]
  },
  {
   "cell_type": "code",
   "execution_count": 5,
   "id": "cbad7db1-7f6b-4915-bd72-019402b7b500",
   "metadata": {},
   "outputs": [],
   "source": [
    "# Prepare data\n",
    "trump = pd.read_csv('https://drive.google.com/uc?export=download&id=1xRKHaP-QwACMydlDnyFPEaFdtskJuBa6')\n",
    "trump.text = trump.apply(lambda row: re.sub(r\"http\\S+\", \"\", row.text).lower(), 1)\n",
    "trump.text = trump.apply(lambda row: \" \".join(filter(lambda x:x[0]!=\"@\", row.text.split())), 1)\n",
    "trump.text = trump.apply(lambda row: \" \".join(re.sub(\"[^a-zA-Z]+\", \" \", row.text).split()), 1)\n",
    "trump = trump.loc[(trump.isRetweet == \"f\") & (trump.text != \"\"), :]\n",
    "timestamps = trump.date.to_list()\n",
    "tweets = trump.text.to_list()"
   ]
  },
  {
   "cell_type": "code",
   "execution_count": 12,
   "id": "d6a012bf-2b88-4e8f-ab8e-0a3e0f0b9d7b",
   "metadata": {},
   "outputs": [
    {
     "data": {
      "text/plain": [
       "'2011-08-02 18:07:48'"
      ]
     },
     "execution_count": 12,
     "metadata": {},
     "output_type": "execute_result"
    }
   ],
   "source": [
    "timestamps[0]"
   ]
  },
  {
   "cell_type": "code",
   "execution_count": 13,
   "id": "2f33f529-c01e-4de2-860e-ce5adc28f51a",
   "metadata": {},
   "outputs": [
    {
     "data": {
      "text/plain": [
       "'republicans and democrats have both created our economic problems'"
      ]
     },
     "execution_count": 13,
     "metadata": {},
     "output_type": "execute_result"
    }
   ],
   "source": [
    "tweets[0]"
   ]
  },
  {
   "cell_type": "markdown",
   "id": "71950420-24dc-465e-a6f9-0ad0cbaf44bc",
   "metadata": {},
   "source": [
    "#### Two lists, each with corresponding date and data"
   ]
  },
  {
   "cell_type": "markdown",
   "id": "a39be4f0-6aa1-4bd8-abfd-d9090a58e293",
   "metadata": {},
   "source": [
    "### To Scrape each org of workshops custom code must be written for each, below is AAAI"
   ]
  },
  {
   "cell_type": "markdown",
   "id": "46b5f8a2-d524-4cb4-a56a-5779943ac1a9",
   "metadata": {},
   "source": [
    "Scrape this class attribute: et_pb_text_inner\n",
    "et_pb_text_inner"
   ]
  },
  {
   "cell_type": "code",
   "execution_count": 20,
   "id": "165e2fff-8363-46da-82a1-00a454256577",
   "metadata": {},
   "outputs": [],
   "source": [
    "AAAIUrl = ['https://aaai.org/Conferences/AAAI-18/ws18workshops/#ws01',\n",
    "           'https://aaai.org/Conferences/AAAI-19/ws19workshops/#ws01',\n",
    "           'https://aaai.org/Conferences/AAAI-20/ws20workshops/#ws01',\n",
    "           'https://aaai.org/Conferences/AAAI-21/ws21workshops/#ws01',\n",
    "           'https://aaai.org/Conferences/AAAI-22/ws22workshops/#ws01',\n",
    "           'https://aaai.org/Conferences/AAAI-23/ws23workshops/#ws01']\n",
    "\n",
    "AAAIDiv = 'et_pb_text_inner'\n"
   ]
  },
  {
   "cell_type": "code",
   "execution_count": 38,
   "id": "e4369246-8f41-4398-ae81-3e31baf4471f",
   "metadata": {},
   "outputs": [],
   "source": [
    "import requests\n",
    "import csv\n",
    "from bs4 import BeautifulSoup as bs"
   ]
  },
  {
   "cell_type": "code",
   "execution_count": 21,
   "id": "90338ada-7a00-4c4c-9537-a2754a92e518",
   "metadata": {},
   "outputs": [],
   "source": [
    "for year, url in enumerate(AAAIUrl, start = 2018):\n",
    "    \n",
    "    req = requests.get(url)\n",
    "    soup = bs(req.text, 'html.parser')\n",
    "      \n",
    "    abstracts = soup.find_all('div',attrs = {'class',AAAIDiv})\n",
    "    \n",
    "    with open('abstracts_AAAI', 'a') as f:\n",
    "        \n",
    "        write = csv.writer(f)\n",
    "        \n",
    "        for abstractNumber in range(0,len(abstracts)):\n",
    "            \n",
    "            write.writerow([abstracts[abstractNumber].text, f'{year}'])"
   ]
  },
  {
   "cell_type": "markdown",
   "id": "c759fd01-50dc-446e-a5d0-1553fc5ddadd",
   "metadata": {},
   "source": [
    "### Importing the data here to test for fuck ups "
   ]
  },
  {
   "cell_type": "code",
   "execution_count": 22,
   "id": "02614bb5-7c36-456d-bc32-b7975797d790",
   "metadata": {},
   "outputs": [],
   "source": [
    "data = pd.read_csv(r'abstracts_AAAI')\n",
    "df = pd.DataFrame(data)\n",
    "df.columns = ['abstract', 'year']\n",
    "#df = df.dropna(axis=0)"
   ]
  },
  {
   "cell_type": "code",
   "execution_count": 33,
   "id": "671e4561-570c-4ffe-95cb-2877f2eb4e1e",
   "metadata": {
    "collapsed": true,
    "jupyter": {
     "outputs_hidden": true
    },
    "tags": []
   },
   "outputs": [
    {
     "data": {
      "text/html": [
       "<div>\n",
       "<style scoped>\n",
       "    .dataframe tbody tr th:only-of-type {\n",
       "        vertical-align: middle;\n",
       "    }\n",
       "\n",
       "    .dataframe tbody tr th {\n",
       "        vertical-align: top;\n",
       "    }\n",
       "\n",
       "    .dataframe thead th {\n",
       "        text-align: right;\n",
       "    }\n",
       "</style>\n",
       "<table border=\"1\" class=\"dataframe\">\n",
       "  <thead>\n",
       "    <tr style=\"text-align: right;\">\n",
       "      <th></th>\n",
       "      <th>abstract</th>\n",
       "      <th>year</th>\n",
       "    </tr>\n",
       "  </thead>\n",
       "  <tbody>\n",
       "    <tr>\n",
       "      <th>0</th>\n",
       "      <td>\\nImportant Dates for Workshop Organizers\\n\\n\\...</td>\n",
       "      <td>2018</td>\n",
       "    </tr>\n",
       "    <tr>\n",
       "      <th>1</th>\n",
       "      <td>\\n\\nW1: Affective Content Analysis\\nW2: AI and...</td>\n",
       "      <td>2018</td>\n",
       "    </tr>\n",
       "    <tr>\n",
       "      <th>2</th>\n",
       "      <td>\\n\\nW01 — Affective Content Analysis\\nAffect a...</td>\n",
       "      <td>2018</td>\n",
       "    </tr>\n",
       "    <tr>\n",
       "      <th>3</th>\n",
       "      <td>\\nThis site is protected by copyright and trad...</td>\n",
       "      <td>2018</td>\n",
       "    </tr>\n",
       "    <tr>\n",
       "      <th>4</th>\n",
       "      <td>AAAI-19 Workshop Program\\nJanuary 27-28, 2019\\...</td>\n",
       "      <td>2019</td>\n",
       "    </tr>\n",
       "    <tr>\n",
       "      <th>5</th>\n",
       "      <td>Important Dates for Workshop Organizers\\n\\n\\nN...</td>\n",
       "      <td>2019</td>\n",
       "    </tr>\n",
       "    <tr>\n",
       "      <th>6</th>\n",
       "      <td>\\n\\nW1: Affective Content Analysis: Modeling ...</td>\n",
       "      <td>2019</td>\n",
       "    </tr>\n",
       "    <tr>\n",
       "      <th>7</th>\n",
       "      <td>\\nW01 — Affective Content Analysis: Modeling A...</td>\n",
       "      <td>2019</td>\n",
       "    </tr>\n",
       "    <tr>\n",
       "      <th>8</th>\n",
       "      <td>This site is protected by copyright and tradem...</td>\n",
       "      <td>2019</td>\n",
       "    </tr>\n",
       "    <tr>\n",
       "      <th>9</th>\n",
       "      <td>AAAI-20 Workshop Program\\nFebruary 7-8, 2020Ne...</td>\n",
       "      <td>2020</td>\n",
       "    </tr>\n",
       "    <tr>\n",
       "      <th>10</th>\n",
       "      <td>Important Dates for Workshop Organizers\\n\\n\\nN...</td>\n",
       "      <td>2020</td>\n",
       "    </tr>\n",
       "    <tr>\n",
       "      <th>11</th>\n",
       "      <td>\\n\\nW1: Affective Content Analysis (AffCon 20...</td>\n",
       "      <td>2020</td>\n",
       "    </tr>\n",
       "    <tr>\n",
       "      <th>12</th>\n",
       "      <td>\\nW1 — Affective Content Analysis (AffCon 2020...</td>\n",
       "      <td>2020</td>\n",
       "    </tr>\n",
       "    <tr>\n",
       "      <th>13</th>\n",
       "      <td>This site is protected by copyright and tradem...</td>\n",
       "      <td>2020</td>\n",
       "    </tr>\n",
       "    <tr>\n",
       "      <th>14</th>\n",
       "      <td>AAAI-21 Workshop Program\\nThe Thirty-Fifth AAA...</td>\n",
       "      <td>2021</td>\n",
       "    </tr>\n",
       "    <tr>\n",
       "      <th>15</th>\n",
       "      <td>Important Dates for Workshop Organizers\\n\\n\\nN...</td>\n",
       "      <td>2021</td>\n",
       "    </tr>\n",
       "    <tr>\n",
       "      <th>16</th>\n",
       "      <td>\\n\\nW1: Affective Content Analysis (AffCon@AA...</td>\n",
       "      <td>2021</td>\n",
       "    </tr>\n",
       "    <tr>\n",
       "      <th>17</th>\n",
       "      <td>\\nW1: Affective Content Analysis (AffCon)\\nAff...</td>\n",
       "      <td>2021</td>\n",
       "    </tr>\n",
       "    <tr>\n",
       "      <th>18</th>\n",
       "      <td>This site is protected by copyright and tradem...</td>\n",
       "      <td>2021</td>\n",
       "    </tr>\n",
       "    <tr>\n",
       "      <th>19</th>\n",
       "      <td>AAAI-22 Workshop Program\\nThe Thirty-Sixth AAA...</td>\n",
       "      <td>2022</td>\n",
       "    </tr>\n",
       "    <tr>\n",
       "      <th>20</th>\n",
       "      <td>Important Dates for Workshop Organizers\\n\\n\\nN...</td>\n",
       "      <td>2022</td>\n",
       "    </tr>\n",
       "    <tr>\n",
       "      <th>21</th>\n",
       "      <td>\\nW1: Adversarial Machine Learning and Beyond\\...</td>\n",
       "      <td>2022</td>\n",
       "    </tr>\n",
       "    <tr>\n",
       "      <th>22</th>\n",
       "      <td>\\nW1: Adversarial Machine Learning and Beyond\\...</td>\n",
       "      <td>2022</td>\n",
       "    </tr>\n",
       "    <tr>\n",
       "      <th>23</th>\n",
       "      <td>This site is protected by copyright and tradem...</td>\n",
       "      <td>2022</td>\n",
       "    </tr>\n",
       "    <tr>\n",
       "      <th>24</th>\n",
       "      <td>AAAI-23 Workshop Program\\nThe Thirty-Seventh A...</td>\n",
       "      <td>2023</td>\n",
       "    </tr>\n",
       "    <tr>\n",
       "      <th>25</th>\n",
       "      <td>\\nW1: AI for Agriculture and Food Systems \\nW2...</td>\n",
       "      <td>2023</td>\n",
       "    </tr>\n",
       "    <tr>\n",
       "      <th>26</th>\n",
       "      <td>\\nW1: AI for Agriculture and Food Systems\\nAn ...</td>\n",
       "      <td>2023</td>\n",
       "    </tr>\n",
       "    <tr>\n",
       "      <th>27</th>\n",
       "      <td>This site is protected by copyright and tradem...</td>\n",
       "      <td>2023</td>\n",
       "    </tr>\n",
       "  </tbody>\n",
       "</table>\n",
       "</div>"
      ],
      "text/plain": [
       "                                             abstract  year\n",
       "0   \\nImportant Dates for Workshop Organizers\\n\\n\\...  2018\n",
       "1   \\n\\nW1: Affective Content Analysis\\nW2: AI and...  2018\n",
       "2   \\n\\nW01 — Affective Content Analysis\\nAffect a...  2018\n",
       "3   \\nThis site is protected by copyright and trad...  2018\n",
       "4   AAAI-19 Workshop Program\\nJanuary 27-28, 2019\\...  2019\n",
       "5   Important Dates for Workshop Organizers\\n\\n\\nN...  2019\n",
       "6    \\n\\nW1: Affective Content Analysis: Modeling ...  2019\n",
       "7   \\nW01 — Affective Content Analysis: Modeling A...  2019\n",
       "8   This site is protected by copyright and tradem...  2019\n",
       "9   AAAI-20 Workshop Program\\nFebruary 7-8, 2020Ne...  2020\n",
       "10  Important Dates for Workshop Organizers\\n\\n\\nN...  2020\n",
       "11   \\n\\nW1: Affective Content Analysis (AffCon 20...  2020\n",
       "12  \\nW1 — Affective Content Analysis (AffCon 2020...  2020\n",
       "13  This site is protected by copyright and tradem...  2020\n",
       "14  AAAI-21 Workshop Program\\nThe Thirty-Fifth AAA...  2021\n",
       "15  Important Dates for Workshop Organizers\\n\\n\\nN...  2021\n",
       "16   \\n\\nW1: Affective Content Analysis (AffCon@AA...  2021\n",
       "17  \\nW1: Affective Content Analysis (AffCon)\\nAff...  2021\n",
       "18  This site is protected by copyright and tradem...  2021\n",
       "19  AAAI-22 Workshop Program\\nThe Thirty-Sixth AAA...  2022\n",
       "20  Important Dates for Workshop Organizers\\n\\n\\nN...  2022\n",
       "21  \\nW1: Adversarial Machine Learning and Beyond\\...  2022\n",
       "22  \\nW1: Adversarial Machine Learning and Beyond\\...  2022\n",
       "23  This site is protected by copyright and tradem...  2022\n",
       "24  AAAI-23 Workshop Program\\nThe Thirty-Seventh A...  2023\n",
       "25  \\nW1: AI for Agriculture and Food Systems \\nW2...  2023\n",
       "26  \\nW1: AI for Agriculture and Food Systems\\nAn ...  2023\n",
       "27  This site is protected by copyright and tradem...  2023"
      ]
     },
     "execution_count": 33,
     "metadata": {},
     "output_type": "execute_result"
    }
   ],
   "source": [
    "df"
   ]
  },
  {
   "cell_type": "markdown",
   "id": "65a2728d-94de-4474-8c9e-2044fe7d4505",
   "metadata": {},
   "source": [
    "## ICLR"
   ]
  },
  {
   "cell_type": "markdown",
   "id": "46c26909-8e99-458d-9c42-f148d3980b08",
   "metadata": {},
   "source": [
    "Luckily uses the same layout as ICLM, so not much custom code has to be written."
   ]
  },
  {
   "cell_type": "code",
   "execution_count": 35,
   "id": "6b85508f-1794-4356-9d82-0d0430f0913a",
   "metadata": {},
   "outputs": [],
   "source": [
    "array18 = [[2018],[*range(402,583)]]\n",
    "array19 = [[2019],[*range(629,637),1207]]\n",
    "array20 = [[2020],[*range(1295,1309)]]\n",
    "array21 = [[2021],[*range(2121, 2148)]]\n",
    "array22 = [[2022],[*range(4547,4565),9069]]\n",
    "\n",
    "allArrays = [array18, array19, array20, array21, array22]"
   ]
  },
  {
   "cell_type": "code",
   "execution_count": 36,
   "id": "2a81548a-b042-4bd6-aea0-74ca14750a1f",
   "metadata": {},
   "outputs": [],
   "source": [
    "for array in allArrays:\n",
    "    \n",
    "    for eventID in array[1]:\n",
    "    \n",
    "        #Change below later so can iterate through all arrays from 17-22\n",
    "        year = array[0][0]\n",
    "    \n",
    "        URL = f'https://iclr.cc/Conferences/{year}/Schedule?showEvent={eventID}'\n",
    "\n",
    "        #print(URL, year)\n",
    "    \n",
    "        req = requests.get(URL)\n",
    "        soup = bs(req.text, 'html.parser')\n",
    "      \n",
    "        abstracts = soup.find_all('div',attrs = {'class','abstractContainer'})\n",
    "    \n",
    "        with open('abstracts_iclr', 'a') as f:\n",
    "        \n",
    "            write = csv.writer(f)\n",
    "        \n",
    "            for abstractNumber in range(0,len(abstracts)):\n",
    "                #print(abstracts[abstractNumber].text)\n",
    "            \n",
    "                write.writerow([abstracts[abstractNumber].text, f'{year}'])"
   ]
  },
  {
   "cell_type": "code",
   "execution_count": 37,
   "id": "77dd6f6b-1b30-414c-b027-1fe795a59998",
   "metadata": {
    "tags": []
   },
   "outputs": [
    {
     "data": {
      "text/html": [
       "<div>\n",
       "<style scoped>\n",
       "    .dataframe tbody tr th:only-of-type {\n",
       "        vertical-align: middle;\n",
       "    }\n",
       "\n",
       "    .dataframe tbody tr th {\n",
       "        vertical-align: top;\n",
       "    }\n",
       "\n",
       "    .dataframe thead th {\n",
       "        text-align: right;\n",
       "    }\n",
       "</style>\n",
       "<table border=\"1\" class=\"dataframe\">\n",
       "  <thead>\n",
       "    <tr style=\"text-align: right;\">\n",
       "      <th></th>\n",
       "      <th>abstract</th>\n",
       "      <th>year</th>\n",
       "    </tr>\n",
       "  </thead>\n",
       "  <tbody>\n",
       "    <tr>\n",
       "      <th>0</th>\n",
       "      <td>Deep reinforcement learning algorithms have re...</td>\n",
       "      <td>2018</td>\n",
       "    </tr>\n",
       "    <tr>\n",
       "      <th>1</th>\n",
       "      <td>Tractable approximate Bayesian inference for d...</td>\n",
       "      <td>2018</td>\n",
       "    </tr>\n",
       "    <tr>\n",
       "      <th>2</th>\n",
       "      <td>We argue for the benefit of designing deep gen...</td>\n",
       "      <td>2018</td>\n",
       "    </tr>\n",
       "    <tr>\n",
       "      <th>3</th>\n",
       "      <td>The field of ML is distinguished both by rapid...</td>\n",
       "      <td>2018</td>\n",
       "    </tr>\n",
       "    <tr>\n",
       "      <th>4</th>\n",
       "      <td>GANS are powerful generative models that are a...</td>\n",
       "      <td>2018</td>\n",
       "    </tr>\n",
       "    <tr>\n",
       "      <th>...</th>\n",
       "      <td>...</td>\n",
       "      <td>...</td>\n",
       "    </tr>\n",
       "    <tr>\n",
       "      <th>244</th>\n",
       "      <td>The constant progress being made in artificial...</td>\n",
       "      <td>2022</td>\n",
       "    </tr>\n",
       "    <tr>\n",
       "      <th>245</th>\n",
       "      <td>Emergent Communication (EC) studies learning t...</td>\n",
       "      <td>2022</td>\n",
       "    </tr>\n",
       "    <tr>\n",
       "      <th>246</th>\n",
       "      <td>We are at a pivotal moment in healthcare chara...</td>\n",
       "      <td>2022</td>\n",
       "    </tr>\n",
       "    <tr>\n",
       "      <th>247</th>\n",
       "      <td>While the study of generalization has played a...</td>\n",
       "      <td>2022</td>\n",
       "    </tr>\n",
       "    <tr>\n",
       "      <th>248</th>\n",
       "      <td>A whole-day event celebrating and summarizing ...</td>\n",
       "      <td>2022</td>\n",
       "    </tr>\n",
       "  </tbody>\n",
       "</table>\n",
       "<p>249 rows × 2 columns</p>\n",
       "</div>"
      ],
      "text/plain": [
       "                                              abstract  year\n",
       "0    Deep reinforcement learning algorithms have re...  2018\n",
       "1    Tractable approximate Bayesian inference for d...  2018\n",
       "2    We argue for the benefit of designing deep gen...  2018\n",
       "3    The field of ML is distinguished both by rapid...  2018\n",
       "4    GANS are powerful generative models that are a...  2018\n",
       "..                                                 ...   ...\n",
       "244  The constant progress being made in artificial...  2022\n",
       "245  Emergent Communication (EC) studies learning t...  2022\n",
       "246  We are at a pivotal moment in healthcare chara...  2022\n",
       "247  While the study of generalization has played a...  2022\n",
       "248  A whole-day event celebrating and summarizing ...  2022\n",
       "\n",
       "[249 rows x 2 columns]"
      ]
     },
     "execution_count": 37,
     "metadata": {},
     "output_type": "execute_result"
    }
   ],
   "source": [
    "data = pd.read_csv(r'abstracts_iclr')\n",
    "df = pd.DataFrame(data)\n",
    "df.columns = ['abstract', 'year']\n",
    "#df = df.dropna(axis=0)\n",
    "df"
   ]
  },
  {
   "cell_type": "markdown",
   "id": "0b7fc653-2392-4fc3-b789-97be72e81914",
   "metadata": {},
   "source": [
    "## NeurIPS"
   ]
  },
  {
   "cell_type": "markdown",
   "id": "883d5eee-135a-4548-9746-230d4da5494c",
   "metadata": {},
   "source": [
    "#### NeurIPS has an idential layout to ICLM and ICLR, aren't we just lucky."
   ]
  },
  {
   "cell_type": "code",
   "execution_count": 39,
   "id": "a36af5b0-e346-4ac6-9887-c2fd83d57077",
   "metadata": {},
   "outputs": [],
   "source": [
    "array18 = [[2018],[*range(10903,10946)]]\n",
    "array19 = [[2019],[*range(13154,13204),15423]]\n",
    "array20 = [[2020],[*range(16103,16162),[19593, 19592]]]\n",
    "array21 = [[2021],[*range(21827,21886)]]\n",
    "array22 = [[2022],[*range(49957,50019)]]\n",
    "\n",
    "allArrays = [array18, array19, array20, array21, array22]"
   ]
  },
  {
   "cell_type": "code",
   "execution_count": 40,
   "id": "8854713a-d539-4d11-bce5-78a4c28686dc",
   "metadata": {},
   "outputs": [],
   "source": [
    "for array in allArrays:\n",
    "    \n",
    "    for eventID in array[1]:\n",
    "    \n",
    "        #Change below later so can iterate through all arrays from 17-22\n",
    "        year = array[0][0]\n",
    "    \n",
    "        URL = f'https://nips.cc/Conferences/{year}/Schedule?showEvent={eventID}'\n",
    "\n",
    "        #print(URL, year)\n",
    "    \n",
    "        req = requests.get(URL)\n",
    "        soup = bs(req.text, 'html.parser')\n",
    "      \n",
    "        abstracts = soup.find_all('div',attrs = {'class','abstractContainer'})\n",
    "    \n",
    "        with open('abstracts_neurIps', 'a') as f:\n",
    "        \n",
    "            write = csv.writer(f)\n",
    "        \n",
    "            for abstractNumber in range(0,len(abstracts)):\n",
    "                #print(abstracts[abstractNumber].text)\n",
    "            \n",
    "                write.writerow([abstracts[abstractNumber].text, f'{year}'])"
   ]
  },
  {
   "cell_type": "code",
   "execution_count": 41,
   "id": "155ce455-d9e6-40f0-93cf-2607dd30f9b2",
   "metadata": {
    "collapsed": true,
    "jupyter": {
     "outputs_hidden": true
    },
    "tags": []
   },
   "outputs": [
    {
     "data": {
      "text/html": [
       "<div>\n",
       "<style scoped>\n",
       "    .dataframe tbody tr th:only-of-type {\n",
       "        vertical-align: middle;\n",
       "    }\n",
       "\n",
       "    .dataframe tbody tr th {\n",
       "        vertical-align: top;\n",
       "    }\n",
       "\n",
       "    .dataframe thead th {\n",
       "        text-align: right;\n",
       "    }\n",
       "</style>\n",
       "<table border=\"1\" class=\"dataframe\">\n",
       "  <thead>\n",
       "    <tr style=\"text-align: right;\">\n",
       "      <th></th>\n",
       "      <th>abstract</th>\n",
       "      <th>year</th>\n",
       "    </tr>\n",
       "  </thead>\n",
       "  <tbody>\n",
       "    <tr>\n",
       "      <th>0</th>\n",
       "      <td>AI for Social Good\\nImportant information\\nWor...</td>\n",
       "      <td>2018</td>\n",
       "    </tr>\n",
       "    <tr>\n",
       "      <th>1</th>\n",
       "      <td>Bayesian nonparametric (BNP) methods are well ...</td>\n",
       "      <td>2018</td>\n",
       "    </tr>\n",
       "    <tr>\n",
       "      <th>2</th>\n",
       "      <td>While deep learning has been revolutionary for...</td>\n",
       "      <td>2018</td>\n",
       "    </tr>\n",
       "    <tr>\n",
       "      <th>3</th>\n",
       "      <td>Site for the workshop: https://sites.google.co...</td>\n",
       "      <td>2018</td>\n",
       "    </tr>\n",
       "    <tr>\n",
       "      <th>4</th>\n",
       "      <td>The adoption of artificial intelligence in the...</td>\n",
       "      <td>2018</td>\n",
       "    </tr>\n",
       "    <tr>\n",
       "      <th>...</th>\n",
       "      <td>...</td>\n",
       "      <td>...</td>\n",
       "    </tr>\n",
       "    <tr>\n",
       "      <th>265</th>\n",
       "      <td>Discover how to improve the adoption of RL in ...</td>\n",
       "      <td>2022</td>\n",
       "    </tr>\n",
       "    <tr>\n",
       "      <th>266</th>\n",
       "      <td>Mathematical reasoning is a unique aspect of h...</td>\n",
       "      <td>2022</td>\n",
       "    </tr>\n",
       "    <tr>\n",
       "      <th>267</th>\n",
       "      <td>Advances in machine learning owe much to the p...</td>\n",
       "      <td>2022</td>\n",
       "    </tr>\n",
       "    <tr>\n",
       "      <th>268</th>\n",
       "      <td>Time series data are ubiquitous in healthcare,...</td>\n",
       "      <td>2022</td>\n",
       "    </tr>\n",
       "    <tr>\n",
       "      <th>269</th>\n",
       "      <td>OPT 2022 will bring experts in optimization to...</td>\n",
       "      <td>2022</td>\n",
       "    </tr>\n",
       "  </tbody>\n",
       "</table>\n",
       "<p>270 rows × 2 columns</p>\n",
       "</div>"
      ],
      "text/plain": [
       "                                              abstract  year\n",
       "0    AI for Social Good\\nImportant information\\nWor...  2018\n",
       "1    Bayesian nonparametric (BNP) methods are well ...  2018\n",
       "2    While deep learning has been revolutionary for...  2018\n",
       "3    Site for the workshop: https://sites.google.co...  2018\n",
       "4    The adoption of artificial intelligence in the...  2018\n",
       "..                                                 ...   ...\n",
       "265  Discover how to improve the adoption of RL in ...  2022\n",
       "266  Mathematical reasoning is a unique aspect of h...  2022\n",
       "267  Advances in machine learning owe much to the p...  2022\n",
       "268  Time series data are ubiquitous in healthcare,...  2022\n",
       "269  OPT 2022 will bring experts in optimization to...  2022\n",
       "\n",
       "[270 rows x 2 columns]"
      ]
     },
     "execution_count": 41,
     "metadata": {},
     "output_type": "execute_result"
    }
   ],
   "source": [
    "data = pd.read_csv(r'abstracts_neurIps')\n",
    "df = pd.DataFrame(data)\n",
    "df.columns = ['abstract', 'year']\n",
    "#df = df.dropna(axis=0)\n",
    "df"
   ]
  },
  {
   "cell_type": "markdown",
   "id": "d61b4054-0c4c-4741-afd2-b3ae5946a5eb",
   "metadata": {},
   "source": [
    "## IJCAI"
   ]
  },
  {
   "cell_type": "code",
   "execution_count": null,
   "id": "9bd71d79-159c-46f9-a406-4672875effeb",
   "metadata": {},
   "outputs": [],
   "source": [
    "IJCAIUrl [['https://ijcai-22.org/workshop/', 'elementor-widget-container'],\n",
    "          ['https://ijcai-21.org/workshops/','entry-content clear'],\n",
    "          ['https://ijcai20.org/workshops/','column-4'],\n",
    "          ['',''],\n",
    "          ['',''],\n",
    "         \n",
    "         \n",
    "         ]    \n",
    "    \n",
    "    = 'entry-content clear'\n"
   ]
  }
 ],
 "metadata": {
  "kernelspec": {
   "display_name": "Python 3 (ipykernel)",
   "language": "python",
   "name": "python3"
  },
  "language_info": {
   "codemirror_mode": {
    "name": "ipython",
    "version": 3
   },
   "file_extension": ".py",
   "mimetype": "text/x-python",
   "name": "python",
   "nbconvert_exporter": "python",
   "pygments_lexer": "ipython3",
   "version": "3.10.8"
  }
 },
 "nbformat": 4,
 "nbformat_minor": 5
}
