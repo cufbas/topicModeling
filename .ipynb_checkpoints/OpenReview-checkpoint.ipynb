{
 "cells": [
  {
   "cell_type": "markdown",
   "id": "e0abe737-62e0-4db7-925e-513d52539f4d",
   "metadata": {},
   "source": [
    "### Below an example of how to retreive the results of a single arxiv query, with the search term \"all:electron\""
   ]
  },
  {
   "cell_type": "code",
   "execution_count": 1,
   "id": "59fd4038-4d74-4118-9659-d5d68124a264",
   "metadata": {
    "collapsed": true,
    "jupyter": {
     "outputs_hidden": true
    },
    "tags": []
   },
   "outputs": [
    {
     "name": "stdout",
     "output_type": "stream",
     "text": [
      "<?xml version=\"1.0\" encoding=\"UTF-8\"?>\n",
      "<feed xmlns=\"http://www.w3.org/2005/Atom\">\n",
      "  <link href=\"http://arxiv.org/api/query?search_query%3Dall%3Aelectron%26id_list%3D%26start%3D0%26max_results%3D1\" rel=\"self\" type=\"application/atom+xml\"/>\n",
      "  <title type=\"html\">ArXiv Query: search_query=all:electron&amp;id_list=&amp;start=0&amp;max_results=1</title>\n",
      "  <id>http://arxiv.org/api/cHxbiOdZaP56ODnBPIenZhzg5f8</id>\n",
      "  <updated>2022-10-31T00:00:00-04:00</updated>\n",
      "  <opensearch:totalResults xmlns:opensearch=\"http://a9.com/-/spec/opensearch/1.1/\">189264</opensearch:totalResults>\n",
      "  <opensearch:startIndex xmlns:opensearch=\"http://a9.com/-/spec/opensearch/1.1/\">0</opensearch:startIndex>\n",
      "  <opensearch:itemsPerPage xmlns:opensearch=\"http://a9.com/-/spec/opensearch/1.1/\">1</opensearch:itemsPerPage>\n",
      "  <entry>\n",
      "    <id>http://arxiv.org/abs/cond-mat/0102536v1</id>\n",
      "    <updated>2001-02-28T20:12:09Z</updated>\n",
      "    <published>2001-02-28T20:12:09Z</published>\n",
      "    <title>Impact of Electron-Electron Cusp on Configuration Interaction Energies</title>\n",
      "    <summary>  The effect of the electron-electron cusp on the convergence of configuration\n",
      "interaction (CI) wave functions is examined. By analogy with the\n",
      "pseudopotential approach for electron-ion interactions, an effective\n",
      "electron-electron interaction is developed which closely reproduces the\n",
      "scattering of the Coulomb interaction but is smooth and finite at zero\n",
      "electron-electron separation. The exact many-electron wave function for this\n",
      "smooth effective interaction has no cusp at zero electron-electron separation.\n",
      "We perform CI and quantum Monte Carlo calculations for He and Be atoms, both\n",
      "with the Coulomb electron-electron interaction and with the smooth effective\n",
      "electron-electron interaction. We find that convergence of the CI expansion of\n",
      "the wave function for the smooth electron-electron interaction is not\n",
      "significantly improved compared with that for the divergent Coulomb interaction\n",
      "for energy differences on the order of 1 mHartree. This shows that, contrary to\n",
      "popular belief, description of the electron-electron cusp is not a limiting\n",
      "factor, to within chemical accuracy, for CI calculations.\n",
      "</summary>\n",
      "    <author>\n",
      "      <name>David Prendergast</name>\n",
      "      <arxiv:affiliation xmlns:arxiv=\"http://arxiv.org/schemas/atom\">Department of Physics</arxiv:affiliation>\n",
      "    </author>\n",
      "    <author>\n",
      "      <name>M. Nolan</name>\n",
      "      <arxiv:affiliation xmlns:arxiv=\"http://arxiv.org/schemas/atom\">NMRC, University College, Cork, Ireland</arxiv:affiliation>\n",
      "    </author>\n",
      "    <author>\n",
      "      <name>Claudia Filippi</name>\n",
      "      <arxiv:affiliation xmlns:arxiv=\"http://arxiv.org/schemas/atom\">Department of Physics</arxiv:affiliation>\n",
      "    </author>\n",
      "    <author>\n",
      "      <name>Stephen Fahy</name>\n",
      "      <arxiv:affiliation xmlns:arxiv=\"http://arxiv.org/schemas/atom\">Department of Physics</arxiv:affiliation>\n",
      "    </author>\n",
      "    <author>\n",
      "      <name>J. C. Greer</name>\n",
      "      <arxiv:affiliation xmlns:arxiv=\"http://arxiv.org/schemas/atom\">NMRC, University College, Cork, Ireland</arxiv:affiliation>\n",
      "    </author>\n",
      "    <arxiv:doi xmlns:arxiv=\"http://arxiv.org/schemas/atom\">10.1063/1.1383585</arxiv:doi>\n",
      "    <link title=\"doi\" href=\"http://dx.doi.org/10.1063/1.1383585\" rel=\"related\"/>\n",
      "    <arxiv:comment xmlns:arxiv=\"http://arxiv.org/schemas/atom\">11 pages, 6 figures, 3 tables, LaTeX209, submitted to The Journal of\n",
      "  Chemical Physics</arxiv:comment>\n",
      "    <arxiv:journal_ref xmlns:arxiv=\"http://arxiv.org/schemas/atom\">J. Chem. Phys. 115, 1626 (2001)</arxiv:journal_ref>\n",
      "    <link href=\"http://arxiv.org/abs/cond-mat/0102536v1\" rel=\"alternate\" type=\"text/html\"/>\n",
      "    <link title=\"pdf\" href=\"http://arxiv.org/pdf/cond-mat/0102536v1\" rel=\"related\" type=\"application/pdf\"/>\n",
      "    <arxiv:primary_category xmlns:arxiv=\"http://arxiv.org/schemas/atom\" term=\"cond-mat.str-el\" scheme=\"http://arxiv.org/schemas/atom\"/>\n",
      "    <category term=\"cond-mat.str-el\" scheme=\"http://arxiv.org/schemas/atom\"/>\n",
      "  </entry>\n",
      "</feed>\n",
      "\n"
     ]
    }
   ],
   "source": [
    "    import urllib, urllib.request\n",
    "    url = 'http://export.arxiv.org/api/query?search_query=all:electron&start=0&max_results=1'\n",
    "    data = urllib.request.urlopen(url)\n",
    "    print(data.read().decode('utf-8'))"
   ]
  },
  {
   "cell_type": "markdown",
   "id": "6239acb3-44fe-4e38-8682-ce6195194060",
   "metadata": {},
   "source": [
    "### For optimal data query bertopic must be better understood"
   ]
  },
  {
   "cell_type": "code",
   "execution_count": null,
   "id": "43e855ec-9248-4d98-96d5-12bf106c076e",
   "metadata": {},
   "outputs": [],
   "source": [
    "import pandas as pd\n",
    "import re"
   ]
  },
  {
   "cell_type": "markdown",
   "id": "59320087-c773-4e27-be3f-3f9f308a6e98",
   "metadata": {},
   "source": [
    "#### Below is the example from bertopic website, running it here to get a better understanding of how the date should be formatted"
   ]
  },
  {
   "cell_type": "code",
   "execution_count": 5,
   "id": "cbad7db1-7f6b-4915-bd72-019402b7b500",
   "metadata": {},
   "outputs": [],
   "source": [
    "# Prepare data\n",
    "trump = pd.read_csv('https://drive.google.com/uc?export=download&id=1xRKHaP-QwACMydlDnyFPEaFdtskJuBa6')\n",
    "trump.text = trump.apply(lambda row: re.sub(r\"http\\S+\", \"\", row.text).lower(), 1)\n",
    "trump.text = trump.apply(lambda row: \" \".join(filter(lambda x:x[0]!=\"@\", row.text.split())), 1)\n",
    "trump.text = trump.apply(lambda row: \" \".join(re.sub(\"[^a-zA-Z]+\", \" \", row.text).split()), 1)\n",
    "trump = trump.loc[(trump.isRetweet == \"f\") & (trump.text != \"\"), :]\n",
    "timestamps = trump.date.to_list()\n",
    "tweets = trump.text.to_list()"
   ]
  },
  {
   "cell_type": "code",
   "execution_count": 12,
   "id": "d6a012bf-2b88-4e8f-ab8e-0a3e0f0b9d7b",
   "metadata": {},
   "outputs": [
    {
     "data": {
      "text/plain": [
       "'2011-08-02 18:07:48'"
      ]
     },
     "execution_count": 12,
     "metadata": {},
     "output_type": "execute_result"
    }
   ],
   "source": [
    "timestamps[0]"
   ]
  },
  {
   "cell_type": "code",
   "execution_count": 13,
   "id": "2f33f529-c01e-4de2-860e-ce5adc28f51a",
   "metadata": {},
   "outputs": [
    {
     "data": {
      "text/plain": [
       "'republicans and democrats have both created our economic problems'"
      ]
     },
     "execution_count": 13,
     "metadata": {},
     "output_type": "execute_result"
    }
   ],
   "source": [
    "tweets[0]"
   ]
  },
  {
   "cell_type": "markdown",
   "id": "71950420-24dc-465e-a6f9-0ad0cbaf44bc",
   "metadata": {},
   "source": [
    "#### Two lists, each with corresponding date and data"
   ]
  },
  {
   "cell_type": "markdown",
   "id": "a39be4f0-6aa1-4bd8-abfd-d9090a58e293",
   "metadata": {},
   "source": [
    "### To Scrape each org of workshops custom code must be written for each, below is AAAI"
   ]
  },
  {
   "cell_type": "code",
   "execution_count": null,
   "id": "b9ce657c-e51f-4fde-a834-6cc7ff16a358",
   "metadata": {},
   "outputs": [],
   "source": [
    "import urllib.request\n",
    "\n",
    "import time\n",
    "import feedparser\n",
    "\n",
    "# Base api query url\n",
    "base_url = 'http://export.arxiv.org/api/query?';\n",
    "\n",
    "# Search parameters\n",
    "search_query = urllib.parse.quote(\"ti:machine learning\")\n",
    "i = 0\n",
    "results_per_iteration = 1000\n",
    "wait_time = 3\n",
    "papers = []\n",
    "year = \"\"  \n",
    "print('Searching arXiv for %s' % search_query)\n",
    "\n",
    "while (year != \"2018\"): #stop requesting when papers date reach 2018\n",
    "    print(\"Results %i - %i\" % (i,i+results_per_iteration))\n",
    "    \n",
    "    query = 'search_query=%s&start=%i&max_results=%i&sortBy=submittedDate&sortOrder=descending' % (search_query,\n",
    "                                                         i,\n",
    "                                                         results_per_iteration)\n",
    "\n",
    "    # perform a GET request using the base_url and query\n",
    "    response = urllib.request.urlopen(base_url+query).read()\n",
    "\n",
    "    # parse the response using feedparser\n",
    "    feed = feedparser.parse(response)\n",
    "    # Run through each entry, and print out information\n",
    "    for entry in feed.entries:\n",
    "        #print('arxiv-id: %s' % entry.id.split('/abs/')[-1])\n",
    "        #print('Title:  %s' % entry.title)\n",
    "        #feedparser v4.1 only grabs the first author\n",
    "        #print('First Author:  %s' % entry.author)\n",
    "        paper = {}\n",
    "        paper[\"date\"] = entry.published\n",
    "        year = paper[\"date\"][0:4]\n",
    "        paper[\"title\"] = entry.title\n",
    "        paper[\"first_author\"] = entry.author\n",
    "        paper[\"summary\"] = entry.summary\n",
    "        papers.append(paper)\n",
    "    # Sleep a bit before calling the API again\n",
    "    print('Bulk: %i' % 1)\n",
    "    i += results_per_iteration\n",
    "    time.sleep(wait_time)\n",
    "\n",
    "for the \"post-filtering\" approach,"
   ]
  }
 ],
 "metadata": {
  "kernelspec": {
   "display_name": "Python 3 (ipykernel)",
   "language": "python",
   "name": "python3"
  },
  "language_info": {
   "codemirror_mode": {
    "name": "ipython",
    "version": 3
   },
   "file_extension": ".py",
   "mimetype": "text/x-python",
   "name": "python",
   "nbconvert_exporter": "python",
   "pygments_lexer": "ipython3",
   "version": "3.10.8"
  }
 },
 "nbformat": 4,
 "nbformat_minor": 5
}
